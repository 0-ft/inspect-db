{
 "cells": [
  {
   "cell_type": "code",
   "execution_count": 8,
   "metadata": {},
   "outputs": [
    {
     "data": {
      "text/html": [
       "<pre style=\"white-space:pre;overflow-x:auto;line-height:normal;font-family:Menlo,'DejaVu Sans Mono',consolas,'Courier New',monospace\"><span style=\"color: #7fbfbf; text-decoration-color: #7fbfbf\">[17:30:41] </span>No new logs to process.                                                                    <a href=\"file:///home/atlas/aisi/inspect-db/src/inspect_db/ingest.py\" target=\"_blank\"><span style=\"color: #7f7f7f; text-decoration-color: #7f7f7f\">ingest.py</span></a><span style=\"color: #7f7f7f; text-decoration-color: #7f7f7f\">:</span><a href=\"file:///home/atlas/aisi/inspect-db/src/inspect_db/ingest.py#159\" target=\"_blank\"><span style=\"color: #7f7f7f; text-decoration-color: #7f7f7f\">159</span></a>\n",
       "</pre>\n"
      ],
      "text/plain": [
       "\u001b[2;36m[17:30:41]\u001b[0m\u001b[2;36m \u001b[0mNo new logs to process.                                                                    \u001b]8;id=76025;file:///home/atlas/aisi/inspect-db/src/inspect_db/ingest.py\u001b\\\u001b[2mingest.py\u001b[0m\u001b]8;;\u001b\\\u001b[2m:\u001b[0m\u001b]8;id=522757;file:///home/atlas/aisi/inspect-db/src/inspect_db/ingest.py#159\u001b\\\u001b[2m159\u001b[0m\u001b]8;;\u001b\\\n"
      ]
     },
     "metadata": {},
     "output_type": "display_data"
    }
   ],
   "source": [
    "from inspect_db.ingest import ingest_logs\n",
    "from inspect_db.db import EvalDB\n",
    "from rich.console import Console\n",
    "console = Console()\n",
    "\n",
    "!rm -f /tmp/test_evaldb.db\n",
    "\n",
    "DB_URI = \"duckdb:////tmp/test_evaldb.db\"\n",
    "\n",
    "ingest_logs(DB_URI, [\"tests/sample_logs/*.eval\"], 4)"
   ]
  },
  {
   "cell_type": "code",
   "execution_count": 10,
   "metadata": {},
   "outputs": [
    {
     "data": {
      "text/html": [
       "<pre style=\"white-space:pre;overflow-x:auto;line-height:normal;font-family:Menlo,'DejaVu Sans Mono',consolas,'Courier New',monospace\"><span style=\"font-style: italic\">        Database Statistics         </span>\n",
       "┏━━━━━━━━━━━━━━━━━━━━━━━━━┳━━━━━━━━┓\n",
       "┃<span style=\"font-weight: bold\"> Metric                  </span>┃<span style=\"font-weight: bold\"> Value  </span>┃\n",
       "┡━━━━━━━━━━━━━━━━━━━━━━━━━╇━━━━━━━━┩\n",
       "│<span style=\"color: #008080; text-decoration-color: #008080\"> Total Logs              </span>│<span style=\"color: #008000; text-decoration-color: #008000\"> 3      </span>│\n",
       "│<span style=\"color: #008080; text-decoration-color: #008080\"> Total Samples           </span>│<span style=\"color: #008000; text-decoration-color: #008000\"> 1422   </span>│\n",
       "│<span style=\"color: #008080; text-decoration-color: #008080\"> Total Messages          </span>│<span style=\"color: #008000; text-decoration-color: #008000\"> 3299   </span>│\n",
       "│<span style=\"color: #008080; text-decoration-color: #008080\"> Avg Samples per Log     </span>│<span style=\"color: #008000; text-decoration-color: #008000\"> 1422.0 </span>│\n",
       "│<span style=\"color: #008080; text-decoration-color: #008080\"> Avg Messages per Sample </span>│<span style=\"color: #008000; text-decoration-color: #008000\"> 3299.0 </span>│\n",
       "└─────────────────────────┴────────┘\n",
       "<span style=\"font-style: italic\">    Message Role     </span>\n",
       "<span style=\"font-style: italic\">    Distribution     </span>\n",
       "┏━━━━━━━━━━━┳━━━━━━━┓\n",
       "┃<span style=\"font-weight: bold\"> Role      </span>┃<span style=\"font-weight: bold\"> Count </span>┃\n",
       "┡━━━━━━━━━━━╇━━━━━━━┩\n",
       "│<span style=\"color: #008080; text-decoration-color: #008080\"> tool      </span>│<span style=\"color: #008000; text-decoration-color: #008000\"> 237   </span>│\n",
       "│<span style=\"color: #008080; text-decoration-color: #008080\"> user      </span>│<span style=\"color: #008000; text-decoration-color: #008000\"> 1422  </span>│\n",
       "│<span style=\"color: #008080; text-decoration-color: #008080\"> system    </span>│<span style=\"color: #008000; text-decoration-color: #008000\"> 67    </span>│\n",
       "│<span style=\"color: #008080; text-decoration-color: #008080\"> assistant </span>│<span style=\"color: #008000; text-decoration-color: #008000\"> 1573  </span>│\n",
       "└───────────┴───────┘\n",
       "</pre>\n"
      ],
      "text/plain": [
       "\u001b[3m        Database Statistics         \u001b[0m\n",
       "┏━━━━━━━━━━━━━━━━━━━━━━━━━┳━━━━━━━━┓\n",
       "┃\u001b[1m \u001b[0m\u001b[1mMetric                 \u001b[0m\u001b[1m \u001b[0m┃\u001b[1m \u001b[0m\u001b[1mValue \u001b[0m\u001b[1m \u001b[0m┃\n",
       "┡━━━━━━━━━━━━━━━━━━━━━━━━━╇━━━━━━━━┩\n",
       "│\u001b[36m \u001b[0m\u001b[36mTotal Logs             \u001b[0m\u001b[36m \u001b[0m│\u001b[32m \u001b[0m\u001b[32m3     \u001b[0m\u001b[32m \u001b[0m│\n",
       "│\u001b[36m \u001b[0m\u001b[36mTotal Samples          \u001b[0m\u001b[36m \u001b[0m│\u001b[32m \u001b[0m\u001b[32m1422  \u001b[0m\u001b[32m \u001b[0m│\n",
       "│\u001b[36m \u001b[0m\u001b[36mTotal Messages         \u001b[0m\u001b[36m \u001b[0m│\u001b[32m \u001b[0m\u001b[32m3299  \u001b[0m\u001b[32m \u001b[0m│\n",
       "│\u001b[36m \u001b[0m\u001b[36mAvg Samples per Log    \u001b[0m\u001b[36m \u001b[0m│\u001b[32m \u001b[0m\u001b[32m1422.0\u001b[0m\u001b[32m \u001b[0m│\n",
       "│\u001b[36m \u001b[0m\u001b[36mAvg Messages per Sample\u001b[0m\u001b[36m \u001b[0m│\u001b[32m \u001b[0m\u001b[32m3299.0\u001b[0m\u001b[32m \u001b[0m│\n",
       "└─────────────────────────┴────────┘\n",
       "\u001b[3m    Message Role     \u001b[0m\n",
       "\u001b[3m    Distribution     \u001b[0m\n",
       "┏━━━━━━━━━━━┳━━━━━━━┓\n",
       "┃\u001b[1m \u001b[0m\u001b[1mRole     \u001b[0m\u001b[1m \u001b[0m┃\u001b[1m \u001b[0m\u001b[1mCount\u001b[0m\u001b[1m \u001b[0m┃\n",
       "┡━━━━━━━━━━━╇━━━━━━━┩\n",
       "│\u001b[36m \u001b[0m\u001b[36mtool     \u001b[0m\u001b[36m \u001b[0m│\u001b[32m \u001b[0m\u001b[32m237  \u001b[0m\u001b[32m \u001b[0m│\n",
       "│\u001b[36m \u001b[0m\u001b[36muser     \u001b[0m\u001b[36m \u001b[0m│\u001b[32m \u001b[0m\u001b[32m1422 \u001b[0m\u001b[32m \u001b[0m│\n",
       "│\u001b[36m \u001b[0m\u001b[36msystem   \u001b[0m\u001b[36m \u001b[0m│\u001b[32m \u001b[0m\u001b[32m67   \u001b[0m\u001b[32m \u001b[0m│\n",
       "│\u001b[36m \u001b[0m\u001b[36massistant\u001b[0m\u001b[36m \u001b[0m│\u001b[32m \u001b[0m\u001b[32m1573 \u001b[0m\u001b[32m \u001b[0m│\n",
       "└───────────┴───────┘\n"
      ]
     },
     "metadata": {},
     "output_type": "display_data"
    }
   ],
   "source": [
    "db = EvalDB(DB_URI)\n",
    "console.print(db.stats_table())"
   ]
  },
  {
   "cell_type": "code",
   "execution_count": null,
   "metadata": {},
   "outputs": [],
   "source": [
    "logs = db.get_db_logs()\n",
    "for log in logs:\n",
    "    print(log)\n",
    "\n",
    "for sample in db.get_db_samples():\n",
    "    print(sample)"
   ]
  }
 ],
 "metadata": {
  "kernelspec": {
   "display_name": ".venv",
   "language": "python",
   "name": "python3"
  },
  "language_info": {
   "codemirror_mode": {
    "name": "ipython",
    "version": 3
   },
   "file_extension": ".py",
   "mimetype": "text/x-python",
   "name": "python",
   "nbconvert_exporter": "python",
   "pygments_lexer": "ipython3",
   "version": "3.12.3"
  }
 },
 "nbformat": 4,
 "nbformat_minor": 2
}
