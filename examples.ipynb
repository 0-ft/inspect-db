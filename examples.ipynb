{
 "cells": [
  {
   "cell_type": "code",
   "execution_count": 2,
   "metadata": {},
   "outputs": [
    {
     "data": {
      "application/vnd.jupyter.widget-view+json": {
       "model_id": "673ff46d1bd64b9288057c619b0b5c0b",
       "version_major": 2,
       "version_minor": 0
      },
      "text/plain": [
       "Output()"
      ]
     },
     "metadata": {},
     "output_type": "display_data"
    },
    {
     "data": {
      "text/html": [
       "<pre style=\"white-space:pre;overflow-x:auto;line-height:normal;font-family:Menlo,'DejaVu Sans Mono',consolas,'Courier New',monospace\"></pre>\n"
      ],
      "text/plain": []
     },
     "metadata": {},
     "output_type": "display_data"
    },
    {
     "data": {
      "text/html": [
       "<pre style=\"white-space:pre;overflow-x:auto;line-height:normal;font-family:Menlo,'DejaVu Sans Mono',consolas,'Courier New',monospace\">\n",
       "</pre>\n"
      ],
      "text/plain": [
       "\n"
      ]
     },
     "metadata": {},
     "output_type": "display_data"
    },
    {
     "data": {
      "text/html": [
       "<pre style=\"white-space:pre;overflow-x:auto;line-height:normal;font-family:Menlo,'DejaVu Sans Mono',consolas,'Courier New',monospace\"><span style=\"font-style: italic\">         Ingestion Summary          </span>\n",
       "┏━━━━━━━━━━━━━━━━━━━━━━━━━━┳━━━━━━━┓\n",
       "┃<span style=\"font-weight: bold\"> Metric                   </span>┃<span style=\"font-weight: bold\"> Value </span>┃\n",
       "┡━━━━━━━━━━━━━━━━━━━━━━━━━━╇━━━━━━━┩\n",
       "│<span style=\"color: #008080; text-decoration-color: #008080\"> Total Files Found        </span>│<span style=\"color: #008000; text-decoration-color: #008000\"> 3     </span>│\n",
       "│<span style=\"color: #008080; text-decoration-color: #008080\"> Successfully Ingested    </span>│<span style=\"color: #008000; text-decoration-color: #008000\"> 0     </span>│\n",
       "│<span style=\"color: #008080; text-decoration-color: #008080\"> Skipped (Already Exists) </span>│<span style=\"color: #008000; text-decoration-color: #008000\"> 3     </span>│\n",
       "│<span style=\"color: #008080; text-decoration-color: #008080\"> Errors                   </span>│<span style=\"color: #008000; text-decoration-color: #008000\"> 0     </span>│\n",
       "│<span style=\"color: #008080; text-decoration-color: #008080\"> Workers                  </span>│<span style=\"color: #008000; text-decoration-color: #008000\"> 4     </span>│\n",
       "└──────────────────────────┴───────┘\n",
       "</pre>\n"
      ],
      "text/plain": [
       "\u001b[3m         Ingestion Summary          \u001b[0m\n",
       "┏━━━━━━━━━━━━━━━━━━━━━━━━━━┳━━━━━━━┓\n",
       "┃\u001b[1m \u001b[0m\u001b[1mMetric                  \u001b[0m\u001b[1m \u001b[0m┃\u001b[1m \u001b[0m\u001b[1mValue\u001b[0m\u001b[1m \u001b[0m┃\n",
       "┡━━━━━━━━━━━━━━━━━━━━━━━━━━╇━━━━━━━┩\n",
       "│\u001b[36m \u001b[0m\u001b[36mTotal Files Found       \u001b[0m\u001b[36m \u001b[0m│\u001b[32m \u001b[0m\u001b[32m3    \u001b[0m\u001b[32m \u001b[0m│\n",
       "│\u001b[36m \u001b[0m\u001b[36mSuccessfully Ingested   \u001b[0m\u001b[36m \u001b[0m│\u001b[32m \u001b[0m\u001b[32m0    \u001b[0m\u001b[32m \u001b[0m│\n",
       "│\u001b[36m \u001b[0m\u001b[36mSkipped (Already Exists)\u001b[0m\u001b[36m \u001b[0m│\u001b[32m \u001b[0m\u001b[32m3    \u001b[0m\u001b[32m \u001b[0m│\n",
       "│\u001b[36m \u001b[0m\u001b[36mErrors                  \u001b[0m\u001b[36m \u001b[0m│\u001b[32m \u001b[0m\u001b[32m0    \u001b[0m\u001b[32m \u001b[0m│\n",
       "│\u001b[36m \u001b[0m\u001b[36mWorkers                 \u001b[0m\u001b[36m \u001b[0m│\u001b[32m \u001b[0m\u001b[32m4    \u001b[0m\u001b[32m \u001b[0m│\n",
       "└──────────────────────────┴───────┘\n"
      ]
     },
     "metadata": {},
     "output_type": "display_data"
    }
   ],
   "source": [
    "from inspect_db.cli import RichProgressListener\n",
    "from inspect_db.ingest import ingest_logs\n",
    "\n",
    "DB_URI = \"duckdb:////tmp/test_evaldb.db\"\n",
    "\n",
    "ingest_logs(DB_URI, [\"tests/sample_logs/*.eval\"], 4)"
   ]
  },
  {
   "cell_type": "code",
   "execution_count": 3,
   "metadata": {},
   "outputs": [
    {
     "data": {
      "text/plain": [
       "<inspect_db.db.EvalDB at 0x7f3084dfe750>"
      ]
     },
     "execution_count": 3,
     "metadata": {},
     "output_type": "execute_result"
    }
   ],
   "source": [
    "from inspect_db.db import EvalDB\n",
    "\n",
    "db = EvalDB(DB_URI)\n",
    "db"
   ]
  },
  {
   "cell_type": "code",
   "execution_count": 4,
   "metadata": {},
   "outputs": [
    {
     "name": "stdout",
     "output_type": "stream",
     "text": [
      "inserted=datetime.datetime(2025, 4, 10, 9, 57, 49, 574949) location='tests/sample_logs/2025-03-28T13-47-14+00-00_gpqa-diamond_4dLhGxA36WnSauR29xehc7.eval' db_uuid=UUID('9d62b800-63c9-4840-8715-39affb086535')\n",
      "inserted=datetime.datetime(2025, 4, 10, 9, 57, 49, 698969) location='tests/sample_logs/2025-03-28T23-01-38+00-00_agentharm_Nxk5Uxvp8fxJ6ecWsUah43.eval' db_uuid=UUID('67a06fa1-39f2-4097-af37-e476bf8f9fc6')\n",
      "inserted=datetime.datetime(2025, 4, 10, 9, 57, 51, 925371) location='tests/sample_logs/2025-04-10T09-09-00+01-00_commonsense-qa_BvqVogcx7wZWDpvRYnci6b.eval' db_uuid=UUID('9dc7b968-407c-454f-ac63-3a8f6d46b935')\n"
     ]
    }
   ],
   "source": [
    "logs = db.get_db_logs()\n",
    "for log in logs:\n",
    "    print(log)\n",
    "\n",
    "for sample in db.get_db_samples():\n",
    "    print(sample)"
   ]
  }
 ],
 "metadata": {
  "kernelspec": {
   "display_name": ".venv",
   "language": "python",
   "name": "python3"
  },
  "language_info": {
   "codemirror_mode": {
    "name": "ipython",
    "version": 3
   },
   "file_extension": ".py",
   "mimetype": "text/x-python",
   "name": "python",
   "nbconvert_exporter": "python",
   "pygments_lexer": "ipython3",
   "version": "3.12.3"
  }
 },
 "nbformat": 4,
 "nbformat_minor": 2
}
