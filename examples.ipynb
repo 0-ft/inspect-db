{
 "cells": [
  {
   "cell_type": "code",
   "execution_count": 2,
   "metadata": {},
   "outputs": [
    {
     "data": {
      "application/vnd.jupyter.widget-view+json": {
       "model_id": "34221ba27e5142c2872bddd110846b02",
       "version_major": 2,
       "version_minor": 0
      },
      "text/plain": [
       "Output()"
      ]
     },
     "metadata": {},
     "output_type": "display_data"
    },
    {
     "data": {
      "text/html": [
       "<pre style=\"white-space:pre;overflow-x:auto;line-height:normal;font-family:Menlo,'DejaVu Sans Mono',consolas,'Courier New',monospace\"></pre>\n"
      ],
      "text/plain": []
     },
     "metadata": {},
     "output_type": "display_data"
    },
    {
     "data": {
      "text/html": [
       "<pre style=\"white-space:pre;overflow-x:auto;line-height:normal;font-family:Menlo,'DejaVu Sans Mono',consolas,'Courier New',monospace\">\n",
       "</pre>\n"
      ],
      "text/plain": [
       "\n"
      ]
     },
     "metadata": {},
     "output_type": "display_data"
    },
    {
     "data": {
      "text/html": [
       "<pre style=\"white-space:pre;overflow-x:auto;line-height:normal;font-family:Menlo,'DejaVu Sans Mono',consolas,'Courier New',monospace\"><span style=\"font-style: italic\">         Ingestion Summary          </span>\n",
       "┏━━━━━━━━━━━━━━━━━━━━━━━━━━┳━━━━━━━┓\n",
       "┃<span style=\"font-weight: bold\"> Metric                   </span>┃<span style=\"font-weight: bold\"> Value </span>┃\n",
       "┡━━━━━━━━━━━━━━━━━━━━━━━━━━╇━━━━━━━┩\n",
       "│<span style=\"color: #008080; text-decoration-color: #008080\"> Total Files Found        </span>│<span style=\"color: #008000; text-decoration-color: #008000\"> 3     </span>│\n",
       "│<span style=\"color: #008080; text-decoration-color: #008080\"> Successfully Ingested    </span>│<span style=\"color: #008000; text-decoration-color: #008000\"> 3     </span>│\n",
       "│<span style=\"color: #008080; text-decoration-color: #008080\"> Skipped (Already Exists) </span>│<span style=\"color: #008000; text-decoration-color: #008000\"> 0     </span>│\n",
       "│<span style=\"color: #008080; text-decoration-color: #008080\"> Errors                   </span>│<span style=\"color: #008000; text-decoration-color: #008000\"> 0     </span>│\n",
       "│<span style=\"color: #008080; text-decoration-color: #008080\"> Workers                  </span>│<span style=\"color: #008000; text-decoration-color: #008000\"> 4     </span>│\n",
       "└──────────────────────────┴───────┘\n",
       "</pre>\n"
      ],
      "text/plain": [
       "\u001b[3m         Ingestion Summary          \u001b[0m\n",
       "┏━━━━━━━━━━━━━━━━━━━━━━━━━━┳━━━━━━━┓\n",
       "┃\u001b[1m \u001b[0m\u001b[1mMetric                  \u001b[0m\u001b[1m \u001b[0m┃\u001b[1m \u001b[0m\u001b[1mValue\u001b[0m\u001b[1m \u001b[0m┃\n",
       "┡━━━━━━━━━━━━━━━━━━━━━━━━━━╇━━━━━━━┩\n",
       "│\u001b[36m \u001b[0m\u001b[36mTotal Files Found       \u001b[0m\u001b[36m \u001b[0m│\u001b[32m \u001b[0m\u001b[32m3    \u001b[0m\u001b[32m \u001b[0m│\n",
       "│\u001b[36m \u001b[0m\u001b[36mSuccessfully Ingested   \u001b[0m\u001b[36m \u001b[0m│\u001b[32m \u001b[0m\u001b[32m3    \u001b[0m\u001b[32m \u001b[0m│\n",
       "│\u001b[36m \u001b[0m\u001b[36mSkipped (Already Exists)\u001b[0m\u001b[36m \u001b[0m│\u001b[32m \u001b[0m\u001b[32m0    \u001b[0m\u001b[32m \u001b[0m│\n",
       "│\u001b[36m \u001b[0m\u001b[36mErrors                  \u001b[0m\u001b[36m \u001b[0m│\u001b[32m \u001b[0m\u001b[32m0    \u001b[0m\u001b[32m \u001b[0m│\n",
       "│\u001b[36m \u001b[0m\u001b[36mWorkers                 \u001b[0m\u001b[36m \u001b[0m│\u001b[32m \u001b[0m\u001b[32m4    \u001b[0m\u001b[32m \u001b[0m│\n",
       "└──────────────────────────┴───────┘\n"
      ]
     },
     "metadata": {},
     "output_type": "display_data"
    }
   ],
   "source": [
    "from inspect_db.cli import RichProgressListener\n",
    "from inspect_db.ingest import ingest_logs\n",
    "\n",
    "!rm -f /tmp/test_evaldb.db\n",
    "\n",
    "DB_URI = \"duckdb:////tmp/test_evaldb.db\"\n",
    "\n",
    "ingest_logs(DB_URI, [\"tests/sample_logs/*.eval\"], 4)"
   ]
  },
  {
   "cell_type": "code",
   "execution_count": 3,
   "metadata": {},
   "outputs": [
    {
     "data": {
      "text/plain": [
       "{'log_count': 3,\n",
       " 'sample_count': 1422,\n",
       " 'message_count': 3299,\n",
       " 'avg_samples_per_log': 1422.0,\n",
       " 'avg_messages_per_sample': 3299.0,\n",
       " 'role_distribution': {<MessageRole.SYSTEM: 'system'>: 67,\n",
       "  <MessageRole.USER: 'user'>: 1422,\n",
       "  <MessageRole.ASSISTANT: 'assistant'>: 1573,\n",
       "  <MessageRole.TOOL: 'tool'>: 237}}"
      ]
     },
     "execution_count": 3,
     "metadata": {},
     "output_type": "execute_result"
    }
   ],
   "source": [
    "from inspect_db.db import EvalDB\n",
    "\n",
    "db = EvalDB(DB_URI)\n",
    "db.stats()"
   ]
  },
  {
   "cell_type": "code",
   "execution_count": 5,
   "metadata": {},
   "outputs": [
    {
     "name": "stdout",
     "output_type": "stream",
     "text": [
      "location='tests/sample_logs/2025-03-28T23-01-38+00-00_agentharm_Nxk5Uxvp8fxJ6ecWsUah43.eval' inserted=datetime.datetime(2025, 4, 10, 10, 28, 12, 995012) db_uuid=UUID('07c7cb11-71d5-4118-95ab-d5386996fddc')\n",
      "location='tests/sample_logs/2025-03-28T13-47-14+00-00_gpqa-diamond_4dLhGxA36WnSauR29xehc7.eval' inserted=datetime.datetime(2025, 4, 10, 10, 28, 12, 999787) db_uuid=UUID('3cdb3c79-3d1a-4e9d-9979-54be66a007da')\n",
      "location='tests/sample_logs/2025-04-10T09-09-00+01-00_commonsense-qa_BvqVogcx7wZWDpvRYnci6b.eval' inserted=datetime.datetime(2025, 4, 10, 10, 28, 14, 841147) db_uuid=UUID('a59ef8f3-da9e-4209-9a68-29d678142f85')\n"
     ]
    },
    {
     "ename": "ValidationError",
     "evalue": "1 validation error for ModelOutput\n  Input should be an object [type=model_type, input_value='{\"model\":\"gpt-4o-mini-20...ata\":null,\"error\":null}', input_type=str]\n    For further information visit https://errors.pydantic.dev/2.11/v/model_type",
     "output_type": "error",
     "traceback": [
      "\u001b[31m---------------------------------------------------------------------------\u001b[39m",
      "\u001b[31mValidationError\u001b[39m                           Traceback (most recent call last)",
      "\u001b[36mCell\u001b[39m\u001b[36m \u001b[39m\u001b[32mIn[5]\u001b[39m\u001b[32m, line 5\u001b[39m\n\u001b[32m      2\u001b[39m \u001b[38;5;28;01mfor\u001b[39;00m log \u001b[38;5;129;01min\u001b[39;00m logs:\n\u001b[32m      3\u001b[39m     \u001b[38;5;28mprint\u001b[39m(log)\n\u001b[32m----> \u001b[39m\u001b[32m5\u001b[39m \u001b[38;5;28;43;01mfor\u001b[39;49;00m\u001b[43m \u001b[49m\u001b[43msample\u001b[49m\u001b[43m \u001b[49m\u001b[38;5;129;43;01min\u001b[39;49;00m\u001b[43m \u001b[49m\u001b[43mdb\u001b[49m\u001b[43m.\u001b[49m\u001b[43mget_db_samples\u001b[49m\u001b[43m(\u001b[49m\u001b[43m)\u001b[49m\u001b[43m:\u001b[49m\n\u001b[32m      6\u001b[39m \u001b[43m    \u001b[49m\u001b[38;5;28;43;01mpass\u001b[39;49;00m\n",
      "\u001b[36mFile \u001b[39m\u001b[32m~/aisi/inspect-db/src/inspect_db/db.py:103\u001b[39m, in \u001b[36mEvalDB.get_db_samples\u001b[39m\u001b[34m(self, log_uuid, sample_uuid)\u001b[39m\n\u001b[32m    101\u001b[39m     query = query.where(DBEvalSample.db_uuid == sample_uuid)\n\u001b[32m    102\u001b[39m \u001b[38;5;28;01mwith\u001b[39;00m \u001b[38;5;28mself\u001b[39m.session() \u001b[38;5;28;01mas\u001b[39;00m session:\n\u001b[32m--> \u001b[39m\u001b[32m103\u001b[39m     \u001b[38;5;28;01myield from\u001b[39;00m session.exec(query)\n",
      "\u001b[36mFile \u001b[39m\u001b[32m~/aisi/inspect-db/.venv/lib/python3.12/site-packages/sqlalchemy/engine/result.py:527\u001b[39m, in \u001b[36mResultInternal._iterator_getter.<locals>.iterrows\u001b[39m\u001b[34m(self)\u001b[39m\n\u001b[32m    526\u001b[39m \u001b[38;5;28;01mdef\u001b[39;00m\u001b[38;5;250m \u001b[39m\u001b[34miterrows\u001b[39m(\u001b[38;5;28mself\u001b[39m: Result[Any]) -> Iterator[_R]:\n\u001b[32m--> \u001b[39m\u001b[32m527\u001b[39m \u001b[43m    \u001b[49m\u001b[38;5;28;43;01mfor\u001b[39;49;00m\u001b[43m \u001b[49m\u001b[43mraw_row\u001b[49m\u001b[43m \u001b[49m\u001b[38;5;129;43;01min\u001b[39;49;00m\u001b[43m \u001b[49m\u001b[38;5;28;43mself\u001b[39;49m\u001b[43m.\u001b[49m\u001b[43m_fetchiter_impl\u001b[49m\u001b[43m(\u001b[49m\u001b[43m)\u001b[49m\u001b[43m:\u001b[49m\n\u001b[32m    528\u001b[39m \u001b[43m        \u001b[49m\u001b[43mrow\u001b[49m\u001b[43m:\u001b[49m\u001b[43m \u001b[49m\u001b[43m_InterimRowType\u001b[49m\u001b[43m[\u001b[49m\u001b[43mAny\u001b[49m\u001b[43m]\u001b[49m\u001b[43m \u001b[49m\u001b[43m=\u001b[49m\u001b[43m \u001b[49m\u001b[43m(\u001b[49m\n\u001b[32m    529\u001b[39m \u001b[43m            \u001b[49m\u001b[43mmake_row\u001b[49m\u001b[43m(\u001b[49m\u001b[43mraw_row\u001b[49m\u001b[43m)\u001b[49m\u001b[43m \u001b[49m\u001b[38;5;28;43;01mif\u001b[39;49;00m\u001b[43m \u001b[49m\u001b[43mmake_row\u001b[49m\u001b[43m \u001b[49m\u001b[38;5;28;43;01melse\u001b[39;49;00m\u001b[43m \u001b[49m\u001b[43mraw_row\u001b[49m\n\u001b[32m    530\u001b[39m \u001b[43m        \u001b[49m\u001b[43m)\u001b[49m\n\u001b[32m    531\u001b[39m \u001b[43m        \u001b[49m\u001b[38;5;28;43;01mif\u001b[39;49;00m\u001b[43m \u001b[49m\u001b[43mpost_creational_filter\u001b[49m\u001b[43m:\u001b[49m\n",
      "\u001b[36mFile \u001b[39m\u001b[32m~/aisi/inspect-db/.venv/lib/python3.12/site-packages/sqlalchemy/orm/loading.py:219\u001b[39m, in \u001b[36minstances.<locals>.chunks\u001b[39m\u001b[34m(size)\u001b[39m\n\u001b[32m    217\u001b[39m         \u001b[38;5;28;01mbreak\u001b[39;00m\n\u001b[32m    218\u001b[39m \u001b[38;5;28;01melse\u001b[39;00m:\n\u001b[32m--> \u001b[39m\u001b[32m219\u001b[39m     fetch = \u001b[43mcursor\u001b[49m\u001b[43m.\u001b[49m\u001b[43m_raw_all_rows\u001b[49m\u001b[43m(\u001b[49m\u001b[43m)\u001b[49m\n\u001b[32m    221\u001b[39m \u001b[38;5;28;01mif\u001b[39;00m single_entity:\n\u001b[32m    222\u001b[39m     proc = process[\u001b[32m0\u001b[39m]\n",
      "\u001b[36mFile \u001b[39m\u001b[32m~/aisi/inspect-db/.venv/lib/python3.12/site-packages/sqlalchemy/engine/result.py:541\u001b[39m, in \u001b[36mResultInternal._raw_all_rows\u001b[39m\u001b[34m(self)\u001b[39m\n\u001b[32m    539\u001b[39m \u001b[38;5;28;01massert\u001b[39;00m make_row \u001b[38;5;129;01mis\u001b[39;00m \u001b[38;5;129;01mnot\u001b[39;00m \u001b[38;5;28;01mNone\u001b[39;00m\n\u001b[32m    540\u001b[39m rows = \u001b[38;5;28mself\u001b[39m._fetchall_impl()\n\u001b[32m--> \u001b[39m\u001b[32m541\u001b[39m \u001b[38;5;28;01mreturn\u001b[39;00m [\u001b[43mmake_row\u001b[49m\u001b[43m(\u001b[49m\u001b[43mrow\u001b[49m\u001b[43m)\u001b[49m \u001b[38;5;28;01mfor\u001b[39;00m row \u001b[38;5;129;01min\u001b[39;00m rows]\n",
      "\u001b[36mFile \u001b[39m\u001b[32mlib/sqlalchemy/cyextension/resultproxy.pyx:22\u001b[39m, in \u001b[36msqlalchemy.cyextension.resultproxy.BaseRow.__init__\u001b[39m\u001b[34m()\u001b[39m\n",
      "\u001b[36mFile \u001b[39m\u001b[32mlib/sqlalchemy/cyextension/resultproxy.pyx:79\u001b[39m, in \u001b[36msqlalchemy.cyextension.resultproxy._apply_processors\u001b[39m\u001b[34m()\u001b[39m\n",
      "\u001b[36mFile \u001b[39m\u001b[32m~/aisi/inspect-db/src/inspect_db/models.py:46\u001b[39m, in \u001b[36mPydanticJson.result_processor.<locals>.<lambda>\u001b[39m\u001b[34m(value)\u001b[39m\n\u001b[32m     45\u001b[39m \u001b[38;5;28;01mdef\u001b[39;00m\u001b[38;5;250m \u001b[39m\u001b[34mresult_processor\u001b[39m(\u001b[38;5;28mself\u001b[39m, dialect, coltype):\n\u001b[32m---> \u001b[39m\u001b[32m46\u001b[39m     \u001b[38;5;28;01mreturn\u001b[39;00m \u001b[38;5;28;01mlambda\u001b[39;00m value: \u001b[38;5;28;43mself\u001b[39;49m\u001b[43m.\u001b[49m\u001b[43mpt\u001b[49m\u001b[43m.\u001b[49m\u001b[43mvalidate_json\u001b[49m\u001b[43m(\u001b[49m\u001b[43mvalue\u001b[49m\u001b[43m)\u001b[49m \u001b[38;5;28;01mif\u001b[39;00m value \u001b[38;5;129;01mis\u001b[39;00m \u001b[38;5;129;01mnot\u001b[39;00m \u001b[38;5;28;01mNone\u001b[39;00m \u001b[38;5;28;01melse\u001b[39;00m \u001b[38;5;28;01mNone\u001b[39;00m\n",
      "\u001b[36mFile \u001b[39m\u001b[32m~/aisi/inspect-db/.venv/lib/python3.12/site-packages/pydantic/type_adapter.py:468\u001b[39m, in \u001b[36mTypeAdapter.validate_json\u001b[39m\u001b[34m(self, data, strict, context, experimental_allow_partial, by_alias, by_name)\u001b[39m\n\u001b[32m    462\u001b[39m \u001b[38;5;28;01mif\u001b[39;00m by_alias \u001b[38;5;129;01mis\u001b[39;00m \u001b[38;5;28;01mFalse\u001b[39;00m \u001b[38;5;129;01mand\u001b[39;00m by_name \u001b[38;5;129;01mis\u001b[39;00m \u001b[38;5;129;01mnot\u001b[39;00m \u001b[38;5;28;01mTrue\u001b[39;00m:\n\u001b[32m    463\u001b[39m     \u001b[38;5;28;01mraise\u001b[39;00m PydanticUserError(\n\u001b[32m    464\u001b[39m         \u001b[33m'\u001b[39m\u001b[33mAt least one of `by_alias` or `by_name` must be set to True.\u001b[39m\u001b[33m'\u001b[39m,\n\u001b[32m    465\u001b[39m         code=\u001b[33m'\u001b[39m\u001b[33mvalidate-by-alias-and-name-false\u001b[39m\u001b[33m'\u001b[39m,\n\u001b[32m    466\u001b[39m     )\n\u001b[32m--> \u001b[39m\u001b[32m468\u001b[39m \u001b[38;5;28;01mreturn\u001b[39;00m \u001b[38;5;28;43mself\u001b[39;49m\u001b[43m.\u001b[49m\u001b[43mvalidator\u001b[49m\u001b[43m.\u001b[49m\u001b[43mvalidate_json\u001b[49m\u001b[43m(\u001b[49m\n\u001b[32m    469\u001b[39m \u001b[43m    \u001b[49m\u001b[43mdata\u001b[49m\u001b[43m,\u001b[49m\n\u001b[32m    470\u001b[39m \u001b[43m    \u001b[49m\u001b[43mstrict\u001b[49m\u001b[43m=\u001b[49m\u001b[43mstrict\u001b[49m\u001b[43m,\u001b[49m\n\u001b[32m    471\u001b[39m \u001b[43m    \u001b[49m\u001b[43mcontext\u001b[49m\u001b[43m=\u001b[49m\u001b[43mcontext\u001b[49m\u001b[43m,\u001b[49m\n\u001b[32m    472\u001b[39m \u001b[43m    \u001b[49m\u001b[43mallow_partial\u001b[49m\u001b[43m=\u001b[49m\u001b[43mexperimental_allow_partial\u001b[49m\u001b[43m,\u001b[49m\n\u001b[32m    473\u001b[39m \u001b[43m    \u001b[49m\u001b[43mby_alias\u001b[49m\u001b[43m=\u001b[49m\u001b[43mby_alias\u001b[49m\u001b[43m,\u001b[49m\n\u001b[32m    474\u001b[39m \u001b[43m    \u001b[49m\u001b[43mby_name\u001b[49m\u001b[43m=\u001b[49m\u001b[43mby_name\u001b[49m\u001b[43m,\u001b[49m\n\u001b[32m    475\u001b[39m \u001b[43m\u001b[49m\u001b[43m)\u001b[49m\n",
      "\u001b[31mValidationError\u001b[39m: 1 validation error for ModelOutput\n  Input should be an object [type=model_type, input_value='{\"model\":\"gpt-4o-mini-20...ata\":null,\"error\":null}', input_type=str]\n    For further information visit https://errors.pydantic.dev/2.11/v/model_type"
     ]
    }
   ],
   "source": [
    "logs = db.get_db_logs()\n",
    "for log in logs:\n",
    "    print(log)\n",
    "\n",
    "for sample in db.get_db_samples():\n",
    "    print(sample)"
   ]
  }
 ],
 "metadata": {
  "kernelspec": {
   "display_name": ".venv",
   "language": "python",
   "name": "python3"
  },
  "language_info": {
   "codemirror_mode": {
    "name": "ipython",
    "version": 3
   },
   "file_extension": ".py",
   "mimetype": "text/x-python",
   "name": "python",
   "nbconvert_exporter": "python",
   "pygments_lexer": "ipython3",
   "version": "3.12.3"
  }
 },
 "nbformat": 4,
 "nbformat_minor": 2
}
