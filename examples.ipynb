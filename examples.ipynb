{
 "cells": [
  {
   "cell_type": "code",
   "execution_count": null,
   "metadata": {},
   "outputs": [],
   "source": [
    "from inspect_db.cli import RichProgressListener\n",
    "from inspect_db.ingest import ingest_logs\n",
    "\n",
    "!rm -f /tmp/test_evaldb.db\n",
    "\n",
    "DB_URI = \"duckdb:////tmp/test_evaldb.db\"\n",
    "\n",
    "ingest_logs(DB_URI, [\"tests/sample_logs/*.eval\"], 4)"
   ]
  },
  {
   "cell_type": "code",
   "execution_count": null,
   "metadata": {},
   "outputs": [],
   "source": [
    "from inspect_db.db import EvalDB\n",
    "\n",
    "db = EvalDB(DB_URI)\n",
    "db.stats()"
   ]
  },
  {
   "cell_type": "code",
   "execution_count": null,
   "metadata": {},
   "outputs": [],
   "source": [
    "logs = db.get_db_logs()\n",
    "for log in logs:\n",
    "    print(log)\n",
    "\n",
    "for sample in db.get_db_samples():\n",
    "    print(sample)"
   ]
  }
 ],
 "metadata": {
  "kernelspec": {
   "display_name": ".venv",
   "language": "python",
   "name": "python3"
  },
  "language_info": {
   "codemirror_mode": {
    "name": "ipython",
    "version": 3
   },
   "file_extension": ".py",
   "mimetype": "text/x-python",
   "name": "python",
   "nbconvert_exporter": "python",
   "pygments_lexer": "ipython3",
   "version": "3.12.3"
  }
 },
 "nbformat": 4,
 "nbformat_minor": 2
}
